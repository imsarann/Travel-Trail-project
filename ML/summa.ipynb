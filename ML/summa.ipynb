{
 "cells": [
  {
   "cell_type": "code",
   "execution_count": 1,
   "metadata": {},
   "outputs": [
    {
     "name": "stdout",
     "output_type": "stream",
     "text": [
      "WARNING:tensorflow:From C:\\Users\\mohan\\AppData\\Roaming\\Python\\Python311\\site-packages\\keras\\src\\losses.py:2976: The name tf.losses.sparse_softmax_cross_entropy is deprecated. Please use tf.compat.v1.losses.sparse_softmax_cross_entropy instead.\n",
      "\n"
     ]
    }
   ],
   "source": [
    "import warnings\n",
    "warnings.filterwarnings(\"ignore\")\n",
    "from langchain.text_splitter import RecursiveCharacterTextSplitter\n",
    "from newspaper import Article\n",
    "from sentence_transformers import SentenceTransformer\n",
    "import faiss\n",
    "import os\n",
    "import re\n",
    "import google.generativeai as genai\n",
    "from security import MY_API_KEY"
   ]
  },
  {
   "cell_type": "code",
   "execution_count": 32,
   "metadata": {},
   "outputs": [],
   "source": [
    "class quesitionChatBot:\n",
    "\n",
    "    def __init__(self , chunk_size=1000):\n",
    "\n",
    "        genai.configure(api_key = MY_API_KEY)\n",
    "\n",
    "        self.model = genai.GenerativeModel(model_name = \"gemini-1.5-flash\")\n",
    "        self.encoder = SentenceTransformer(\"all-mpnet-base-v2\")\n",
    "        self.splitter = RecursiveCharacterTextSplitter(chunk_size =chunk_size , chunk_overlap = 200)\n",
    "        self.index = faiss.IndexFlatL2()\n",
    "        self.vectors = []\n",
    "        self.texts = \"\"\n",
    "        self.chunks = []\n",
    "        self.error = True\n",
    "        self.url = \"\"\n",
    "        #self.default_prompts = [ \"Where the place is located. \" , \"How to book and procedure to book.\" ,  \"what are the special offer and discount\" , \n",
    "         #                       \"How to contact , phone or email address\"]\n",
    "\n",
    "        self.prompt = \"Use the following portion of a long document to see if any of the text    is proper the question. \\nReturn relevent text varbit.\\n\"\n",
    "\n",
    "\n",
    "\n",
    "\n",
    "    def getTextFromURLS(self,URL):\n",
    "\n",
    "        self.texts = \"\"\n",
    "\n",
    "        try:\n",
    "\n",
    "            article = Article(URL)\n",
    "            article.download()\n",
    "            article.parse()\n",
    "            self.texts = article.text[:3000]\n",
    "            \n",
    "        except:\n",
    "            return  \"The  Entered URL is invalid or permission is not granted format [ URL:<your_url> ]\"\n",
    "        \n",
    "        self.error = False\n",
    "        self.url = URL\n",
    "        self.textToChunks()\n",
    "        return f\"{self.url} URL is scanned successfully...!\"\n",
    "    \n",
    "    \n",
    "    def textToChunks(self):\n",
    "\n",
    "\n",
    "        self.chunks = self.splitter.split_text(self.texts)\n",
    "        \n",
    "        self.chunksToVectorsAndIndex()\n",
    "\n",
    "        print(len(self.chunks))\n",
    "        return len(self.chunks)\n",
    "    \n",
    "    def chunksToVectorsAndIndex(self):\n",
    "\n",
    "        self.vectors = self.encoder.encode(self.chunks)\n",
    "        self.index = faiss.IndexFlatL2( self.vectors.shape[1])\n",
    "        self.index.add(self.vectors)\n",
    "    \n",
    "    def getResut(self,question):\n",
    "\n",
    "        if(\"url:\" in question.lower()):\n",
    "\n",
    "            index = re.search(\"http\\S*\",question)\n",
    "\n",
    "            if(index == None):\n",
    "                return \"Enter URL in correct format. format [ URL:<your_url> ]\"\n",
    "            \n",
    "            index = index.span()\n",
    "            url = question[index[0] : index[1]]\n",
    "        \n",
    "            return self.getTextFromURLS(url)\n",
    "        \n",
    "        elif( \"review:\" in question.lower()):\n",
    "\n",
    "            return \"Your review is verified successfully\"\n",
    "        \n",
    "        return self.getAnswerFromGAI(question)\n",
    "        \n",
    "    \n",
    "    def getAnswerFromGAI(self , question , k=5):\n",
    "\n",
    "        if(self.error):\n",
    "            return \"Please Enter valid URL format [ URL:<your_url> ]\"\n",
    "\n",
    "        vec = self.encoder.encode([question])\n",
    "        _ , idx = self.index.search(vec , k = k)\n",
    "\n",
    "        resopnces = \"\"\n",
    "\n",
    "        for i in idx[0]:\n",
    "            resopnces+= \"\\n\" +( self.model.generate_content( f\"{self.prompt + self.chunks[i] }\\nquestion: {question}\\n Relevent text if any: \").text)\n",
    "        \n",
    "        final_output = self.model.generate_content( f\" {self.prompt}\\n{resopnces}\\n question: {question}\\n Relevent text if any: \").text + f\"\\n\\n\\n[Results are dispalyes from {self.url}]\"\n",
    "\n",
    "        \n",
    "        return  final_output"
   ]
  },
  {
   "cell_type": "code",
   "execution_count": 1,
   "metadata": {},
   "outputs": [],
   "source": [
    "import pandas as pd"
   ]
  },
  {
   "cell_type": "code",
   "execution_count": 4,
   "metadata": {},
   "outputs": [
    {
     "name": "stderr",
     "output_type": "stream",
     "text": [
      "C:\\Users\\mohan\\AppData\\Local\\Temp\\ipykernel_29536\\146805155.py:1: DtypeWarning: Columns (20,22,24,27,29,30,32,34,36,38,39,42,45,46,47) have mixed types. Specify dtype option on import or set low_memory=False.\n",
      "  s = pd.read_csv(\"processed_hotels.csv\")\n"
     ]
    }
   ],
   "source": [
    "s = pd.read_csv(\"processed_hotels.csv\")"
   ]
  },
  {
   "cell_type": "code",
   "execution_count": 7,
   "metadata": {},
   "outputs": [
    {
     "data": {
      "text/plain": [
       "0        Santa  Barbara\n",
       "1                Affton\n",
       "2          Philadelphia\n",
       "3            Green Lane\n",
       "4          Ashland City\n",
       "              ...      \n",
       "96988            Tucson\n",
       "96989      Philadelphia\n",
       "96990          Voorhees\n",
       "96991      Indianapolis\n",
       "96992             Aston\n",
       "Name: City, Length: 96993, dtype: object"
      ]
     },
     "execution_count": 7,
     "metadata": {},
     "output_type": "execute_result"
    }
   ],
   "source": [
    "s[\"City\"]"
   ]
  },
  {
   "cell_type": "code",
   "execution_count": 9,
   "metadata": {},
   "outputs": [],
   "source": [
    "a = \"\"\"{'Start': 'chennai', 'Destination': 'AVON', 'modeOfTransport': 'flight', 'num_days': 5}\n",
    "{\n",
    "    \"day-1\": {\n",
    "        \"1\" : \"fly from chennai to avon (flight details will be needed to calculate flight time and potential layovers)\",\n",
    "        \"2\" : \"check into hotel in avon\",\n",
    "        \"3\" : \"explore the local area and find a place for dinner\",\n",
    "        \"5\" : \"enjoy a relaxed evening\"\n",
    "    },\n",
    "    \"day-2\": {\n",
    "        \"1\" : \"visit [attraction 1 in avon]\",\n",
    "        \"2\" : \"have lunch at a local restaurant\",\n",
    "        \"3\" : \"visit [attraction 2 in avon]\",\n",
    "        \"5\" : \"dinner at a restaurant of your choice\"\n",
    "    },\n",
    "    \"day-3\": {\n",
    "        \"1\" : \"visit [attraction 3 in avon]\",\n",
    "        \"2\" : \"enjoy a picnic lunch in a park\",\n",
    "        \"3\" : \"visit [attraction 4 in avon]\",\n",
    "        \"5\" : \"dinner at a restaurant of your choice\"\n",
    "    },\n",
    "    \"day-4\": {\n",
    "        \"1\" : \"visit [attraction 5 in avon]\",\n",
    "        \"2\" : \"have lunch at a restaurant\",\n",
    "        \"3\" : \"visit [attraction 6 in avon]\",\n",
    "        \"5\" : \"dinner at a restaurant of your choice\"\n",
    "    },\n",
    "    \"day-5\": {\n",
    "        \"1\" : \"enjoy breakfast at your hotel\",\n",
    "        \"2\" : \"pack your bags and check out\",\n",
    "        \"3\" : \"fly back to chennai\"\n",
    "    },\n",
    "    \"cost\" : \"unknown\",\n",
    "    \"estimation\" :[ \"to provide an accurate cost for your trip, i need more information about specific flight details, hotel choices, and activities you plan to do in avon.  flight costs can vary greatly depending on the airline, time of year, and availability. you can use flight search engines like kayak, google flights, or skyscanner to compare prices for flights from chennai to avon. remember to factor in costs for meals, transportation, and any entrance fees for attractions.\",\n",
    "                 \"hotel prices can also vary depending on location, amenities, and time of year. you can use websites like booking.com, expedia, or hotels.com to find and compare hotel options. when making your choice, consider the distance from the hotel to attractions and transportation options.\",\n",
    "                 \"once you have a clearer idea of your travel dates, flight costs, and hotel options, you can estimate the total cost of your trip.\",\n",
    "                 \"please note, that avon, massachusetts, is a small town. there may not be direct flights from chennai, so you might need to factor in connecting flights, which would increase the overall cost of your trip.\"]\n",
    "    }\"\"\""
   ]
  },
  {
   "cell_type": "code",
   "execution_count": 13,
   "metadata": {},
   "outputs": [],
   "source": [
    "st = re.search(\"(``)*json\",a.lower())\n",
    "st"
   ]
  },
  {
   "cell_type": "code",
   "execution_count": 11,
   "metadata": {},
   "outputs": [],
   "source": [
    "import re"
   ]
  },
  {
   "cell_type": "code",
   "execution_count": 48,
   "metadata": {},
   "outputs": [],
   "source": [
    "a = \"\"\"{\n",
    "    \"Day-1\": {\n",
    "        \"1\" : \"Fly from King of Prussia to Madurai (via a connecting flight). You could find flights from Philadelphia International Airport (PHL) to Madurai International Airport (IXM).\",\n",
    "        \"2\" : \"Arrive at Madurai Airport and transfer to your hotel.\",\n",
    "        \"3\" : \"Check in and freshen up. \",\n",
    "        \"4\" : \"Explore the Meenakshi Amman Temple, a magnificent Hindu temple known for its colorful gopurams (temple towers).\"\n",
    "        },\n",
    "    \"Day-2\": {\n",
    "        \"1\" : \"Visit the Thirumalai Nayakkar Palace, a grand palace built in the 17th century.\",\n",
    "        \"2\" : \"Explore the Gandhi Museum, which showcases the life and works of Mahatma Gandhi.\",\n",
    "        \"3\" : \"Enjoy a traditional South Indian lunch at a local restaurant.\"\n",
    "        },\n",
    "    \"Day-3\": {\n",
    "        \"1\" : \"Take a day trip to Kodaikanal, a hill station known for its picturesque landscapes.\",\n",
    "        \"2\" : \"Explore the Kodaikanal Lake, Coaker's Walk, and the Bryant Park.\",\n",
    "        \"3\" : \"Enjoy a scenic drive back to Madurai.\"\n",
    "        },\n",
    "    \"Day-4\": {\n",
    "        \"1\" : \"Visit the Alagar Koyil Temple, a historic temple dedicated to Lord Vishnu.\"\n",
    "        \"2\" : \"Enjoy some shopping at local markets for souvenirs and handicrafts.\"\n",
    "        \"3\" : \"Have dinner at one of Madurai's famous restaurants.\"\n",
    "        \"4\" : \"Transfer to Madurai Airport for your flight back.\"\n",
    "        },\n",
    "    \"Cost\" : \"800$\" ,\n",
    "    \"Estimation\" :[\n",
    "        \"Flight tickets from King of Prussia to Madurai: $500-$700 (round trip, depending on the time of year and availability).\",\n",
    "        \"Hotel accommodation: $100-$150 per night.\",\n",
    "        \"Local transportation: $50-$100 (including taxis, buses, and auto-rickshaws).\",\n",
    "        \"Food and drinks: $50-$100 (depending on your preferences).\",\n",
    "        \"Entrance fees to attractions: $20-$50 (depending on the attractions you visit).\",\n",
    "        \"Miscellaneous expenses: $20-$50\"\n",
    "    ]\n",
    "    }\"\"\"\n",
    "\n",
    "a = a.lower()"
   ]
  },
  {
   "cell_type": "code",
   "execution_count": 55,
   "metadata": {},
   "outputs": [
    {
     "data": {
      "text/plain": [
       "<re.Match object; span=(0, 12), match='{\\n    \"day-1'>"
      ]
     },
     "execution_count": 55,
     "metadata": {},
     "output_type": "execute_result"
    }
   ],
   "source": [
    "b = re.search(\"\\{\\s*\\\"day\\s*-*1\",a)\n",
    "b"
   ]
  },
  {
   "cell_type": "code",
   "execution_count": 56,
   "metadata": {},
   "outputs": [
    {
     "data": {
      "text/plain": [
       "False"
      ]
     },
     "execution_count": 56,
     "metadata": {},
     "output_type": "execute_result"
    }
   ],
   "source": [
    "a = dict()\n",
    "a== \"hii\""
   ]
  },
  {
   "cell_type": "code",
   "execution_count": 43,
   "metadata": {},
   "outputs": [],
   "source": [
    "re.search(\"{\\s*\\\"d\",'  {\"d}')"
   ]
  },
  {
   "cell_type": "code",
   "execution_count": null,
   "metadata": {},
   "outputs": [],
   "source": []
  }
 ],
 "metadata": {
  "kernelspec": {
   "display_name": "py10",
   "language": "python",
   "name": "py10"
  },
  "language_info": {
   "codemirror_mode": {
    "name": "ipython",
    "version": 3
   },
   "file_extension": ".py",
   "mimetype": "text/x-python",
   "name": "python",
   "nbconvert_exporter": "python",
   "pygments_lexer": "ipython3",
   "version": "3.11.7"
  }
 },
 "nbformat": 4,
 "nbformat_minor": 2
}
